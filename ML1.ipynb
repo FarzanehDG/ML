{
  "nbformat": 4,
  "nbformat_minor": 0,
  "metadata": {
    "colab": {
      "name": "ML1.ipynb",
      "private_outputs": true,
      "provenance": [],
      "collapsed_sections": []
    },
    "kernelspec": {
      "name": "python3",
      "display_name": "Python 3"
    }
  },
  "cells": [
    {
      "cell_type": "code",
      "metadata": {
        "id": "ypWYAkXnYqmh"
      },
      "source": [
        "from datetime import datetime, timedelta,date\n",
        "import pandas as pd\n",
        "%matplotlib inline\n",
        "import matplotlib.pyplot as plt\n",
        "import numpy as np\n",
        "import seaborn as sns\n",
        "from IPython.display import Image\n",
        "from IPython.core.display import HTML \n",
        "\n",
        "from sklearn.preprocessing import LabelEncoder\n",
        "from sklearn.preprocessing import StandardScaler\n",
        "from sklearn.model_selection import train_test_split\n",
        "from sklearn.metrics import accuracy_score,precision_score,recall_score,f1_score\n",
        "from sklearn.metrics import confusion_matrix, classification_report\n",
        "from sklearn.metrics import mean_squared_error\n",
        "\n",
        "import sklearn.metrics as metrics\n",
        "from sklearn.metrics import roc_curve\n",
        "from sklearn.metrics import roc_auc_score\n",
        "\n",
        "from sklearn.cluster import KMeans"
      ],
      "execution_count": null,
      "outputs": []
    },
    {
      "cell_type": "code",
      "metadata": {
        "id": "jzBmWcS0Y_eo"
      },
      "source": [
        "TelecomChurn = pd.read_csv(\"/content/Customer-Churn .csv\")\n",
        "#first few rows\n",
        "TelecomChurn.head()\n",
        "# print(TelecomChurn.shape)"
      ],
      "execution_count": null,
      "outputs": []
    },
    {
      "cell_type": "code",
      "metadata": {
        "id": "xT0lg9UcZOgY"
      },
      "source": [
        "# data summary\n",
        "print(\"Data dimension:\",TelecomChurn.shape)\n",
        "TelecomChurn.info()"
      ],
      "execution_count": null,
      "outputs": []
    },
    {
      "cell_type": "code",
      "metadata": {
        "id": "f4sB3OOaZTJv"
      },
      "source": [
        "# encoding the churn variable into 0 and 1\n",
        "TelecomChurn['Churn'] = TelecomChurn['Churn'].apply(lambda x: 1 if x == 'Yes' else 0)\n",
        "TelecomChurn.head()"
      ],
      "execution_count": null,
      "outputs": []
    },
    {
      "cell_type": "code",
      "metadata": {
        "id": "l_bcqMs--O6i"
      },
      "source": [
        "del a"
      ],
      "execution_count": null,
      "outputs": []
    },
    {
      "cell_type": "code",
      "metadata": {
        "id": "syGAFJul9q2k"
      },
      "source": [
        "try:\r\n",
        "  a+=1\r\n",
        "  print('dfjhfjdhf')\r\n",
        "\r\n",
        "except:\r\n",
        "  a=0\r\n",
        "  a+=1\r\n",
        "  print(a)\r\n"
      ],
      "execution_count": null,
      "outputs": []
    },
    {
      "cell_type": "code",
      "metadata": {
        "id": "TTy09vhf9EWe"
      },
      "source": [
        "for i in range(TelecomChurn.shape[0]):\r\n",
        "  try:\r\n",
        "    TelecomChurn.loc[i ,'TotalCharges'] = pd.to_numeric (TelecomChurn.loc[i ,'TotalCharges'])\r\n",
        "  except:\r\n",
        "    print('index',i)\r\n"
      ],
      "execution_count": null,
      "outputs": []
    },
    {
      "cell_type": "code",
      "metadata": {
        "id": "kLq_EhRI_Gh6"
      },
      "source": [
        "TelecomChurn.loc[488 ,'TotalCharges']"
      ],
      "execution_count": null,
      "outputs": []
    },
    {
      "cell_type": "code",
      "metadata": {
        "id": "_hFW_NmCZTBl"
      },
      "source": [
        "# changing TotalCharges column from object to float\n",
        "TelecomChurn['TotalCharges'] = TelecomChurn['TotalCharges'].apply(pd.to_numeric, downcast='float', errors='coerce')\n",
        "# print(TelecomChurn.dtypes)"
      ],
      "execution_count": null,
      "outputs": []
    },
    {
      "cell_type": "code",
      "metadata": {
        "id": "a7_IingnZeem"
      },
      "source": [
        "# check for null and total observations related to it\n",
        "null_columns=TelecomChurn.columns[TelecomChurn.isnull().all()any()]\n",
        "TelecomChurn[null_columns].isnull().sum()"
      ],
      "execution_count": null,
      "outputs": []
    },
    {
      "cell_type": "code",
      "metadata": {
        "id": "YIgJ2HxLZi1P"
      },
      "source": [
        "meanTotalCharge = TelecomChurn.TotalCharges.mean()\n",
        "TelecomChurn['TotalCharges']=TelecomChurn['TotalCharges'].fillna(meanTotalCharge)"
      ],
      "execution_count": null,
      "outputs": []
    },
    {
      "cell_type": "code",
      "metadata": {
        "id": "weqshLhoZlBs"
      },
      "source": [
        "# summary description of the numeric variables of the dataset\n",
        "TelecomChurn[['tenure', 'MonthlyCharges', 'TotalCharges']].describe()"
      ],
      "execution_count": null,
      "outputs": []
    },
    {
      "cell_type": "code",
      "metadata": {
        "id": "TiXNtVp5Hkdr"
      },
      "source": [
        "8684 /18"
      ],
      "execution_count": null,
      "outputs": []
    },
    {
      "cell_type": "code",
      "metadata": {
        "id": "WIqSGb-0Zni3"
      },
      "source": [
        "# to check the number of unique values in each of the columns\n",
        "for col in list(TelecomChurn.columns):\n",
        "    print(col, TelecomChurn[col].nunique())"
      ],
      "execution_count": null,
      "outputs": []
    },
    {
      "cell_type": "code",
      "metadata": {
        "id": "dSHfxMMvZnYL"
      },
      "source": [
        "# calculate the proportion of churn vs non-churn\n",
        "TelecomChurn['Churn'].mean() "
      ],
      "execution_count": null,
      "outputs": []
    },
    {
      "cell_type": "code",
      "metadata": {
        "id": "Zglg00ljZsok"
      },
      "source": [
        "ax = sns.catplot(y=\"Churn\", kind=\"count\", data=TelecomChurn, height=2.6, aspect=2.5, orient='h')"
      ],
      "execution_count": null,
      "outputs": []
    },
    {
      "cell_type": "code",
      "metadata": {
        "id": "KPPCdTQGZ2MP"
      },
      "source": [
        "plt.figure(figsize=(8,5))\n",
        "p=sns.countplot(x=\"gender\", hue=\"Churn\", data=TelecomChurn)\n",
        "ax=plt.gca()\n",
        "for p in ax.patches:\n",
        "    height = p.get_height()\n",
        "    ax.text(p.get_x()+p.get_width()/2.,height+2, '{:.2f}%'.format(100*(height/TelecomChurn.shape[0])),fontsize=12,ha='center',va='bottom')\n",
        "sns.set(font_scale=1.5)\n",
        "plt.title('Churn Distribution by gender', fontweight=\"bold\")"
      ],
      "execution_count": null,
      "outputs": []
    },
    {
      "cell_type": "code",
      "metadata": {
        "id": "z1GClGtdZ93O"
      },
      "source": [
        "# calculate the proportion of churn by contract\n",
        "plt.figure(figsize=(10,5))\n",
        "p=sns.countplot(x='Contract',hue='Churn',data=TelecomChurn)\n",
        "ax=plt.gca()\n",
        "for p in ax.patches:\n",
        "    height = p.get_height()\n",
        "    ax.text(p.get_x()+p.get_width()/2.,height+2,'{:.2f}%'.format(100*(height/TelecomChurn.shape[0])),fontsize=14,ha='center',va='bottom')\n",
        "sns.set(font_scale=1.5)\n",
        "plt.title('Churn Distribution by Contract', fontweight='bold')\n",
        "\n",
        "churn_by_contract = TelecomChurn.groupby(by='Contract')['Churn'].sum() / TelecomChurn.groupby(by='Contract')['Churn'].count() * 100.0\n",
        "print('Churn by contract:',churn_by_contract)"
      ],
      "execution_count": null,
      "outputs": []
    },
    {
      "cell_type": "code",
      "metadata": {
        "id": "k5buJq6JZ9vj"
      },
      "source": [
        "# calculate the proportion of churn by payment method\n",
        "plt.figure(figsize=(15,6))\n",
        "p=sns.countplot(x='PaymentMethod',hue='Churn', data=TelecomChurn)\n",
        "\n",
        "plt.title ('Churn by payment method', fontweight='bold')\n",
        "\n",
        "churn_by_payment = TelecomChurn.groupby(by='PaymentMethod')['Churn'].sum() / TelecomChurn.groupby(by='PaymentMethod')['Churn'].count() * 100.0\n",
        "print('Churn by payment method:',churn_by_payment)\n",
        "pd.DataFrame(churn_by_payment)"
      ],
      "execution_count": null,
      "outputs": []
    },
    {
      "cell_type": "code",
      "metadata": {
        "id": "_MLSqzbaQ74U"
      },
      "source": [
        "df = TelecomChurn.groupby(by='PaymentMethod')['Churn'].sum()\r\n",
        "df.head()"
      ],
      "execution_count": null,
      "outputs": []
    },
    {
      "cell_type": "code",
      "metadata": {
        "id": "nv-y1RIaaE4_"
      },
      "source": [
        "# figure\n",
        "ax = churn_by_payment.plot(\n",
        "    kind='bar',\n",
        "    color='skyblue',\n",
        "    grid=False,\n",
        "    figsize=(10, 7),\n",
        "    title='Churn Rates by Payment Methods'\n",
        ")\n",
        "\n",
        "ax.set_xlabel('Payment Methods')\n",
        "ax.set_ylabel('Churn rate (%)')\n",
        "\n",
        "plt.show()"
      ],
      "execution_count": null,
      "outputs": []
    },
    {
      "cell_type": "code",
      "metadata": {
        "cellView": "form",
        "id": "VZfKgLXMT9TZ"
      },
      "source": [
        "#@title Default READ HERE\n"
      ],
      "execution_count": null,
      "outputs": []
    },
    {
      "cell_type": "code",
      "metadata": {
        "id": "jzpuRez0aE1k"
      },
      "source": [
        "# proportion of churn by gender and contract\n",
        "churn_gendercontract = TelecomChurn.groupby(['gender', 'Contract'])['Churn'].sum()/TelecomChurn.groupby(['gender', 'Contract'])['Churn'].count()*100\n",
        "churn_gendercontract"
      ],
      "execution_count": null,
      "outputs": []
    },
    {
      "cell_type": "code",
      "metadata": {
        "id": "z0MrORMiaPJo"
      },
      "source": [
        "# keep gender in row and contract by column\n",
        "churn_gendercontract1 = churn_gendercontract.unstack('Contract').fillna(0)\n",
        "churn_gendercontract1 "
      ],
      "execution_count": null,
      "outputs": []
    },
    {
      "cell_type": "code",
      "metadata": {
        "id": "UyC8w02CahJ2"
      },
      "source": [
        "# figure\n",
        "ax = churn_gendercontract1.plot(\n",
        "    kind='bar', \n",
        "    grid= False,\n",
        "    figsize=(13,7)\n",
        ")\n",
        "\n",
        "ax.set_title('Churn rates by Gender & Contract Status')\n",
        "ax.set_xlabel('Gender')\n",
        "ax.set_ylabel('Churn rate (%)')\n",
        "\n",
        "plt.show()"
      ],
      "execution_count": null,
      "outputs": []
    },
    {
      "cell_type": "code",
      "metadata": {
        "id": "pasU8CVRag_A"
      },
      "source": [
        "# observations by citizen type\n",
        "TelecomChurn['SeniorCitizen'].value_counts()"
      ],
      "execution_count": null,
      "outputs": []
    },
    {
      "cell_type": "code",
      "metadata": {
        "id": "suYuG2CnanK-"
      },
      "source": [
        "# Total observations by citizen type, contract and tech support \n",
        "TelecomChurn.groupby(['SeniorCitizen','Contract','TechSupport'])['Churn'].count()"
      ],
      "execution_count": null,
      "outputs": []
    },
    {
      "cell_type": "code",
      "metadata": {
        "id": "nA2PNH8bapwn"
      },
      "source": [
        "# proportion of churn by gender and contract\n",
        "churn_citizentechcontract = TelecomChurn.groupby(['SeniorCitizen','Contract','TechSupport'])['Churn'].sum()/TelecomChurn.groupby(['SeniorCitizen','Contract','TechSupport'])['Churn'].count()*100\n",
        "churn_citizentechcontract"
      ],
      "execution_count": null,
      "outputs": []
    },
    {
      "cell_type": "code",
      "metadata": {
        "id": "ocOK9k8AarsG"
      },
      "source": [
        "# keep gender and payment method in row and contract by column\n",
        "churn_citizentechcontract1 = churn_citizentechcontract.unstack(['TechSupport']).fillna(0)\n",
        "churn_citizentechcontract1"
      ],
      "execution_count": null,
      "outputs": []
    },
    {
      "cell_type": "code",
      "metadata": {
        "id": "bnKxPXcgauNw"
      },
      "source": [
        "# figure\n",
        "ax = churn_citizentechcontract1.plot(\n",
        "    kind='bar', \n",
        "    grid= False,\n",
        "    figsize=(13,7)\n",
        ")\n",
        "\n",
        "ax.set_title('Churn rates by Citizen Type, Tech Support & Contract Status')\n",
        "ax.set_xlabel('Non-Senior:\"0\"   Senior:\"1\"')\n",
        "ax.set_ylabel('Churn rate (%)')\n",
        "\n",
        "plt.xticks()\n",
        "plt.show()"
      ],
      "execution_count": null,
      "outputs": []
    },
    {
      "cell_type": "code",
      "metadata": {
        "id": "ytYjPvIVawwB"
      },
      "source": [
        "# summary of tenure, monthly charges and total charges\n",
        "TelecomChurn[['tenure','MonthlyCharges','TotalCharges']].describe()"
      ],
      "execution_count": null,
      "outputs": []
    },
    {
      "cell_type": "code",
      "metadata": {
        "id": "AfmNhaQTa1cK"
      },
      "source": [
        "# finding correlations\n",
        "corrdata = TelecomChurn[['Churn','tenure','MonthlyCharges','TotalCharges']]\n",
        "corr = corrdata.corr()\n",
        "# plot the heatmap\n",
        "sns.heatmap(corr,cmap=\"coolwarm\",\n",
        "        xticklabels=corrdata.columns,\n",
        "        yticklabels=corrdata.columns,annot=True)"
      ],
      "execution_count": null,
      "outputs": []
    },
    {
      "cell_type": "code",
      "metadata": {
        "id": "aVIxaP9Ia86w"
      },
      "source": [
        "# segmenting based on data type and pre-processing\n",
        "#customer id col\n",
        "Id_col     = ['customerID']\n",
        "#Target column. y should be an array\n",
        "target_col = [\"Churn\"]\n",
        "y = (TelecomChurn[target_col]).values.ravel()\n",
        "# cluster column \n",
        "cluster_col = [\"tenure\"]\n",
        "#categorical columns with categories less than 6\n",
        "cat_cols   = TelecomChurn.nunique()[TelecomChurn.nunique() < 6].keys().tolist()\n",
        "cat_cols   = [x for x in cat_cols if x not in target_col]\n",
        "print(\"categorical \")\n",
        "print(cat_cols)\n",
        "#Binary columns with 2 values\n",
        "bin_cols   = TelecomChurn.nunique()[TelecomChurn.nunique() == 2].keys().tolist()\n",
        "print('binary')\n",
        "print(bin_cols)\n",
        "#Columns more than 2 values\n",
        "multi_cols = [i for i in cat_cols if i not in bin_cols]\n",
        "\n",
        "print(multi_cols)\n",
        "# continuous column\n",
        "cont_col = [\"tenure\",\"MonthlyCharges\"]\n",
        "print(cont_col)\n",
        "print(y)"
      ],
      "execution_count": null,
      "outputs": []
    },
    {
      "cell_type": "code",
      "metadata": {
        "id": "mg7Gi7gabBQg"
      },
      "source": [
        "#Label encoding Binary columns\n",
        "le = LabelEncoder()\n",
        "binary = TelecomChurn[bin_cols]\n",
        "print(binary.shape) \n",
        "print(binary.info())\n",
        "binary.head()\n",
        "for i in bin_cols :\n",
        "    binary[i] = le.fit_transform(binary[i])\n",
        "print(binary.head())"
      ],
      "execution_count": null,
      "outputs": []
    },
    {
      "cell_type": "code",
      "metadata": {
        "id": "w0eBt8xLbDWs"
      },
      "source": [
        "# multi-label categorical columns\n",
        "dummy_vars = pd.get_dummies(TelecomChurn[multi_cols])\n",
        "print(dummy_vars.shape)\n",
        "print(dummy_vars.info())"
      ],
      "execution_count": null,
      "outputs": []
    },
    {
      "cell_type": "code",
      "metadata": {
        "id": "JK4XSQ5h6u5O"
      },
      "source": [
        "dummy_vars.head()"
      ],
      "execution_count": null,
      "outputs": []
    },
    {
      "cell_type": "code",
      "metadata": {
        "id": "LEGzk9QbbFhd"
      },
      "source": [
        "#Scaling Numerical columns\n",
        "std = StandardScaler()\n",
        "scaled = std.fit_transform(TelecomChurn[cont_col])\n",
        "scaled = pd.DataFrame(TelecomChurn,columns= cont_col)\n",
        "scaled.shape\n",
        "print(scaled.info())"
      ],
      "execution_count": null,
      "outputs": []
    },
    {
      "cell_type": "code",
      "metadata": {
        "id": "tWdsZ997bH9X"
      },
      "source": [
        "# creating a dataset to combine pre-processed variables\n",
        "X = pd.concat([binary,scaled,dummy_vars], axis = 1)\n",
        "# drop churn variable from the X dataset\n",
        "X = X.drop(['Churn'],axis=1)\n",
        "print(X.shape)\n",
        "print(X.info())"
      ],
      "execution_count": null,
      "outputs": []
    },
    {
      "cell_type": "code",
      "metadata": {
        "id": "YN2k1SgZbK9S"
      },
      "source": [
        "params = {'random_state': 0, 'n_jobs': 4, 'n_estimators': 5000, 'max_depth': 8}\n",
        "from sklearn.ensemble import RandomForestClassifier\n",
        "\n",
        "\n",
        "df = pd.get_dummies(X)\n",
        "\n",
        "x, y = df, y\n",
        "# Fit RandomForest Classifier\n",
        "clf = RandomForestClassifier(**params)\n",
        "clf = clf.fit(x, y)\n",
        "# Plot features importances\n",
        "imp = pd.Series(data=clf.feature_importances_, index=x.columns).sort_values(ascending=False)\n",
        "plt.figure(figsize=(10,12))\n",
        "plt.title(\"Feature importance\")\n",
        "ax = sns.barplot(y=imp.index, x=imp.values, palette=\"Blues_d\", orient='h')"
      ],
      "execution_count": null,
      "outputs": []
    },
    {
      "cell_type": "code",
      "metadata": {
        "id": "yK3UELHL9u7i"
      },
      "source": [
        "# import machine learning libraries\n",
        "from sklearn.feature_selection import RFE\n",
        "from sklearn.model_selection import GridSearchCV\n",
        "from sklearn.linear_model import LogisticRegression\n",
        "from sklearn.tree import DecisionTreeClassifier\n",
        "from sklearn.ensemble import RandomForestClassifier\n",
        "from sklearn.neighbors import KNeighborsClassifier\n",
        "from sklearn import svm\n",
        "\n",
        "\n",
        "# creating the function\n",
        "# SVC functions are used while modeling and are thus not presented here\n",
        "logreg = LogisticRegression(solver='lbfgs', max_iter = 10000)\n",
        "DT = DecisionTreeClassifier()\n",
        "rfc = RandomForestClassifier()\n",
        "knn = KNeighborsClassifier()"
      ],
      "execution_count": null,
      "outputs": []
    },
    {
      "cell_type": "code",
      "metadata": {
        "id": "8jV7oYEywEu3"
      },
      "source": [
        "# recursive feature extraction for the top 15 features\n",
        "rfe = RFE(rfc, 10)\n",
        "rfe = rfe.fit(X, y)\n",
        "rfe.\n",
        "print(rfe.support_)\n",
        "print(rfe.ranking_)\n",
        "\n",
        "#identifying columns for RFE\n",
        "rfe_data = pd.DataFrame({\"rfe_support\" :rfe.support_,\n",
        "                       \"columns\" : [i for i in X.columns if i not in Id_col + target_col],\n",
        "                       \"ranking\" : rfe.ranking_,\n",
        "                      })\n",
        "\n",
        "# extract columns as a list\n",
        "rfe_var = rfe_data[rfe_data[\"rfe_support\"] == True][\"columns\"].tolist()\n",
        "\n",
        "rfe_data"
      ],
      "execution_count": null,
      "outputs": []
    },
    {
      "cell_type": "code",
      "metadata": {
        "id": "H9-4K6LswIZS"
      },
      "source": [
        "X1 = X[rfe_var]"
      ],
      "execution_count": null,
      "outputs": []
    },
    {
      "cell_type": "code",
      "metadata": {
        "id": "uWJc6PmdwLEX"
      },
      "source": [
        "Xtrain, Xtest, ytrain,ytest = train_test_split(X1,y,test_size = 0.2,random_state = 212)"
      ],
      "execution_count": null,
      "outputs": []
    },
    {
      "cell_type": "code",
      "metadata": {
        "id": "J7ZwYztIC4zQ"
      },
      "source": [
        "print('Ratio of churn in the training sample:',ytrain.mean())\n",
        "print('Ratio of churn in the training sample:',ytest.mean())"
      ],
      "execution_count": null,
      "outputs": []
    },
    {
      "cell_type": "code",
      "metadata": {
        "id": "cGLUz8CkwP5Z"
      },
      "source": [
        "parameters = {'C': [0.001, 0.01, 0.1, 1, 10, 100]}\n",
        "grid = GridSearchCV(estimator=logreg, param_grid = parameters,cv = 10,scoring = 'accuracy')\n",
        "grid.fit(Xtrain,ytrain)\n",
        "\n",
        "print(\"Best score: %0.3f\" % grid.best_score_)\n",
        "print(\"Best parameters:\", grid.best_params_)"
      ],
      "execution_count": null,
      "outputs": []
    },
    {
      "cell_type": "code",
      "metadata": {
        "id": "VJT_nex4wuHs"
      },
      "source": [
        "def result(X_test,y_test):\n",
        "\n",
        "    y_test_pred = grid.predict(X_test)\n",
        "    print('Accuracy score:{:.2f}'.format(accuracy_score(y_test, y_test_pred)))\n",
        "    print(                                                                                )\n",
        "\n",
        "    confusionmat_data = pd.DataFrame({'y_Predicted': y_test_pred,'y_Actual': y_test},columns=['y_Actual','y_Predicted'])\n",
        "    confusion_matrix = pd.crosstab(confusionmat_data['y_Actual'], confusionmat_data['y_Predicted'], rownames=['Actual'], colnames=['Predicted'])\n",
        "    print('Confusion Matrix:\\n {}\\n'.format(confusion_matrix))\n",
        "    print(                                                                               )\n",
        "\n",
        "    class_report = classification_report(y_test, y_test_pred)\n",
        "    print('Classification report:\\n {}\\n'.format(class_report))\n",
        "    print(                                                                               )\n",
        "\n",
        "    mse = mean_squared_error(y_test, y_test_pred)\n",
        "    rmse = np.sqrt(mse)\n",
        "    print('Mean-squared error:\\n {}\\n'.format(rmse))\n",
        "\n",
        "    # predict probabilities\n",
        "    #probs = grid.predict_proba(X_test)\n",
        "    #probs = grid.predict(X_test)\n",
        "\n",
        "    fpr, tpr, threshold = metrics.roc_curve(y_test, y_test_pred)\n",
        "    roc_auc = metrics.auc(fpr, tpr)\n",
        "    plt.title('Receiver Operating Characteristic')\n",
        "    plt.plot(fpr, tpr, 'b', label = 'AUC = %0.2f' % roc_auc)\n",
        "    plt.legend(loc = 'lower right')\n",
        "    plt.plot([0, 1], [0, 1],'r--')\n",
        "    plt.xlim([0, 1])\n",
        "    plt.ylim([0, 1])\n",
        "    plt.ylabel('True Positive Rate')\n",
        "    plt.xlabel('False Positive Rate')\n",
        "    plt.show()\n"
      ],
      "execution_count": null,
      "outputs": []
    },
    {
      "cell_type": "code",
      "metadata": {
        "id": "meznS1YzwxoX"
      },
      "source": [
        "result(Xtest,ytest)"
      ],
      "execution_count": null,
      "outputs": []
    },
    {
      "cell_type": "code",
      "metadata": {
        "id": "U-Ob_pJuw0i9"
      },
      "source": [
        "parameters = {'min_samples_split': [10,100,1000,10000],\n",
        "              'max_depth':[2,5,4,10,100,150,200,250]}\n",
        "\n",
        "grid = GridSearchCV(estimator= DT, param_grid = parameters,cv = 10,scoring = 'accuracy')\n",
        "grid.fit(Xtrain,ytrain)\n",
        "\n",
        "print(\"Best score: %0.3f\" % grid.best_score_)\n",
        "print(\"Best parameters:\", grid.best_params_)"
      ],
      "execution_count": null,
      "outputs": []
    },
    {
      "cell_type": "code",
      "metadata": {
        "id": "HbacMke1w2js"
      },
      "source": [
        "grid.best_estimator_.feature_importances_\n",
        "for name, importance in sorted(zip(grid.best_estimator_.feature_importances_,Xtrain.columns),reverse= True)[:5]:\n",
        "    print(name, importance)\n",
        "    \n",
        "featureimp_plot = pd.Series(grid.best_estimator_.feature_importances_, index = Xtrain.columns)\n",
        "featureimp_plot.nlargest(5).plot(kind='barh')  "
      ],
      "execution_count": null,
      "outputs": []
    },
    {
      "cell_type": "code",
      "metadata": {
        "id": "7GHZ5EcMw4jK"
      },
      "source": [
        "result(Xtest,ytest)"
      ],
      "execution_count": null,
      "outputs": []
    },
    {
      "cell_type": "code",
      "metadata": {
        "id": "3_x2mQ02w7Rt"
      },
      "source": [
        "parameters = {'n_estimators': [1,5,10,100,200],'min_samples_split': [10,100,1000,10000],'max_depth':[2,5,10,100,150,200,250]}\n",
        "\n",
        "grid = GridSearchCV(estimator= rfc, param_grid = parameters,cv = 10,scoring = 'accuracy')\n",
        "grid.fit(Xtrain,ytrain)\n",
        "\n",
        "print(\"Best score: %0.3f\" % grid.best_score_)\n",
        "print(\"Best parameters:\", grid.best_params_)"
      ],
      "execution_count": null,
      "outputs": []
    },
    {
      "cell_type": "code",
      "metadata": {
        "id": "iubNn1vDw-8C"
      },
      "source": [
        "grid.best_estimator_.feature_importances_\n",
        "for name, importance in sorted(zip(grid.best_estimator_.feature_importances_,Xtrain.columns),reverse= True)[:5]:\n",
        "    print(name, importance)\n",
        "    \n",
        "featureimp_plot = pd.Series(grid.best_estimator_.feature_importances_, index = Xtrain.columns)\n",
        "featureimp_plot.nlargest(5).plot(kind='barh')   "
      ],
      "execution_count": null,
      "outputs": []
    },
    {
      "cell_type": "code",
      "metadata": {
        "id": "GFB1T8rLxBJ8"
      },
      "source": [
        "# result\n",
        "result(Xtest,ytest)"
      ],
      "execution_count": null,
      "outputs": []
    },
    {
      "cell_type": "code",
      "metadata": {
        "id": "kRbzCZ27xDDL"
      },
      "source": [
        "#building the model & printing the score\n",
        "parameter = {\n",
        "'max_depth': [1,5,10,15],\n",
        "'n_estimators': [50,100,150,300],\n",
        "'learning_rate': [0.01, 0.1, 0.3],\n",
        "}\n",
        "\n",
        "grid = GridSearchCV(xgb.XGBClassifier(objective='binary:logistic'), param_grid = parameter, cv= 5, scoring='balanced_accuracy')\n",
        "grid.fit(Xtrain,ytrain)\n",
        "\n",
        "print(\"Best score: %0.3f\" % grid.best_score_)\n",
        "print(\"Best parameters:\", grid.best_params_)"
      ],
      "execution_count": null,
      "outputs": []
    },
    {
      "cell_type": "code",
      "metadata": {
        "id": "Ya0ChGCcxFN7"
      },
      "source": [
        "featureimp_plot = pd.Series(grid.best_estimator_.feature_importances_, index = Xtrain.columns)\n",
        "featureimp_plot.nlargest(5).plot(kind='barh') "
      ],
      "execution_count": null,
      "outputs": []
    },
    {
      "cell_type": "code",
      "metadata": {
        "id": "wbA50uoVxGnW"
      },
      "source": [
        "# result\n",
        "result(Xtest,ytest)"
      ],
      "execution_count": null,
      "outputs": []
    },
    {
      "cell_type": "code",
      "metadata": {
        "id": "wVTsYjqgxIQk"
      },
      "source": [
        "parameter = {'C': [5,10, 100]}\n",
        "grid = GridSearchCV(svm.SVC(kernel='linear'), param_grid = parameter, cv= 4)\n",
        "\n",
        "grid.fit(Xtrain,ytrain)\n",
        "\n",
        "print(\"Best score: %0.3f\" % grid.best_score_)\n",
        "print(\"Best parameters:\", grid.best_params_)"
      ],
      "execution_count": null,
      "outputs": []
    },
    {
      "cell_type": "code",
      "metadata": {
        "id": "9-HsiPcnxJ1q"
      },
      "source": [
        "# result\n",
        "result(Xtest,ytest)"
      ],
      "execution_count": null,
      "outputs": []
    },
    {
      "cell_type": "code",
      "metadata": {
        "id": "jNQk8qgVxO_9"
      },
      "source": [
        "from imblearn.over_sampling import SMOTE"
      ],
      "execution_count": null,
      "outputs": []
    },
    {
      "cell_type": "code",
      "metadata": {
        "id": "S1Yepl_6xRMX"
      },
      "source": [
        "#Split train and test data\n",
        "smote_train_X,smote_test_X,smote_train_Y,smote_test_Y = train_test_split(X,y,\n",
        "                                                                         test_size = .25 ,\n",
        "                                                                         random_state = 111)\n",
        "\n",
        "#oversampling minority class using smote\n",
        "os = SMOTE(random_state = 0)\n",
        "os_smote_X,os_smote_Y = os.fit_sample(smote_train_X,smote_train_Y)\n",
        "os_smote_X = pd.DataFrame(data = os_smote_X,columns= X.columns)\n",
        "os_smote_Y = pd.DataFrame(data = os_smote_Y,columns= ['Churn'])\n",
        "\n",
        "print(os_smote_X.shape)\n",
        "print(os_smote_Y.shape)"
      ],
      "execution_count": null,
      "outputs": []
    },
    {
      "cell_type": "code",
      "metadata": {
        "id": "Oqx8MUqBxUEa"
      },
      "source": [
        "rfe = RFE(rfc, 10)\n",
        "rfe = rfe.fit(X, y)\n",
        "print(rfe.support_)\n",
        "print(rfe.ranking_)\n",
        "\n",
        "#identified columns Recursive Feature Elimination\n",
        "rfe_data = pd.DataFrame({\"rfe_support\" :rfe.support_,\n",
        "                       \"columns\" : [i for i in X.columns if i not in Id_col + target_col],\n",
        "                       \"ranking\" : rfe.ranking_,\n",
        "                      })\n",
        "selected_cols = rfe_data[rfe_data[\"rfe_support\"] == True][\"columns\"].tolist()\n",
        "\n",
        "rfe_data\n",
        "print(selected_cols)"
      ],
      "execution_count": null,
      "outputs": []
    },
    {
      "cell_type": "code",
      "metadata": {
        "id": "Nj-AfyCxxXDG"
      },
      "source": [
        "os_smote_Y.mean()"
      ],
      "execution_count": null,
      "outputs": []
    },
    {
      "cell_type": "code",
      "metadata": {
        "id": "kUDmYxzcxYyP"
      },
      "source": [
        "#train and test data under SMOTE\n",
        "train_smoterfe_X = os_smote_X[selected_cols]\n",
        "train_smoterfe_Y = os_smote_Y.values.ravel()\n",
        "test_smoterfe_X  = smote_test_X[selected_cols]\n",
        "test_smoterfe_Y  = smote_test_Y"
      ],
      "execution_count": null,
      "outputs": []
    },
    {
      "cell_type": "code",
      "metadata": {
        "id": "Q5PL7UOQxatU"
      },
      "source": [
        "parameters = {'C': [0.001, 0.01, 0.1, 1, 10, 100]}\n",
        "grid = GridSearchCV(estimator=logreg, param_grid = parameters,cv = 10,scoring = 'accuracy')\n",
        "grid.fit(train_smoterfe_X,train_smoterfe_Y)\n",
        "\n",
        "print(\"Best score: %0.3f\" % grid.best_score_)\n",
        "print(\"Best parameters:\", grid.best_params_)"
      ],
      "execution_count": null,
      "outputs": []
    },
    {
      "cell_type": "code",
      "metadata": {
        "id": "aEkR2ijLxcTh"
      },
      "source": [
        "# result\n",
        "result(test_smoterfe_X,test_smoterfe_Y)"
      ],
      "execution_count": null,
      "outputs": []
    },
    {
      "cell_type": "code",
      "metadata": {
        "id": "03_-WYhhxelm"
      },
      "source": [
        "parameters = {'min_samples_split': [10,100,1000,10000],\n",
        "              'max_depth':[2,5,10,100,150,200,250]}\n",
        "\n",
        "grid = GridSearchCV(estimator= DT, param_grid = parameters,cv = 10,scoring = 'accuracy')\n",
        "grid.fit(train_smoterfe_X,train_smoterfe_Y)\n",
        "\n",
        "print(\"Best score: %0.3f\" % grid.best_score_)\n",
        "print(\"Best parameters:\", grid.best_params_) \n",
        "\n",
        "grid.best_estimator_.feature_importances_\n",
        "for name, importance in sorted(zip(grid.best_estimator_.feature_importances_,train_smoterfe_X.columns),reverse= True)[:5]:\n",
        "    print(name, importance)\n",
        "    \n",
        "featureimp_plot = pd.Series(grid.best_estimator_.feature_importances_, index = train_smoterfe_X.columns)\n",
        "featureimp_plot.nlargest(5).plot(kind='barh') "
      ],
      "execution_count": null,
      "outputs": []
    },
    {
      "cell_type": "code",
      "metadata": {
        "id": "N9NTY1CRxgms"
      },
      "source": [
        "# result\n",
        "result(test_smoterfe_X,test_smoterfe_Y)"
      ],
      "execution_count": null,
      "outputs": []
    },
    {
      "cell_type": "code",
      "metadata": {
        "id": "yEGtVAt9xkEB"
      },
      "source": [
        "parameters = {'n_estimators': [1,5,10,100,200],'min_samples_split': [10,100,1000,10000],'max_depth':[2,5,10,100,150,200,250]}\n",
        "\n",
        "grid = GridSearchCV(estimator= rfc, param_grid = parameters,cv = 10,scoring = 'accuracy')\n",
        "grid.fit(train_smoterfe_X,train_smoterfe_Y)\n",
        "\n",
        "print(\"Best score: %0.3f\" % grid.best_score_)\n",
        "print(\"Best parameters:\", grid.best_params_)"
      ],
      "execution_count": null,
      "outputs": []
    },
    {
      "cell_type": "code",
      "metadata": {
        "id": "Qe-rkzDWxmGs"
      },
      "source": [
        "grid.best_estimator_.feature_importances_\n",
        "for name, importance in sorted(zip(grid.best_estimator_.feature_importances_,train_smoterfe_X.columns),reverse= True)[:5]:\n",
        "    print(name, importance)\n",
        "    \n",
        "featureimp_plot = pd.Series(grid.best_estimator_.feature_importances_, index = train_smoterfe_X.columns)\n",
        "featureimp_plot.nlargest(5).plot(kind='barh') "
      ],
      "execution_count": null,
      "outputs": []
    },
    {
      "cell_type": "code",
      "metadata": {
        "id": "vtjg-9Wvxn22"
      },
      "source": [
        "# result\n",
        "result(test_smoterfe_X,test_smoterfe_Y)"
      ],
      "execution_count": null,
      "outputs": []
    },
    {
      "cell_type": "code",
      "metadata": {
        "id": "DmYKGASzxpuh"
      },
      "source": [
        "parameter = {'C': [1,5,10, 100]}\n",
        "grid = GridSearchCV(svm.SVC(kernel='linear'), param_grid = parameter, cv= 4)\n",
        "grid.fit(train_smoterfe_X,train_smoterfe_Y)\n",
        "\n",
        "print(\"Best score: %0.3f\" % grid.best_score_)\n",
        "print(\"Best parameters:\", grid.best_params_)"
      ],
      "execution_count": null,
      "outputs": []
    },
    {
      "cell_type": "code",
      "metadata": {
        "id": "GgRr5V8QxrJC"
      },
      "source": [
        "# result\n",
        "result(test_smoterfe_X,test_smoterfe_Y)"
      ],
      "execution_count": null,
      "outputs": []
    }
  ]
}